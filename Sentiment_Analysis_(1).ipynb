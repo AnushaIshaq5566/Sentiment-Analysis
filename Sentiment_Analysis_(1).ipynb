{
  "nbformat": 4,
  "nbformat_minor": 0,
  "metadata": {
    "colab": {
      "provenance": [],
      "include_colab_link": true
    },
    "kernelspec": {
      "name": "python3",
      "display_name": "Python 3"
    },
    "language_info": {
      "name": "python"
    }
  },
  "cells": [
    {
      "cell_type": "markdown",
      "metadata": {
        "id": "view-in-github",
        "colab_type": "text"
      },
      "source": [
        "<a href=\"https://colab.research.google.com/github/AnushaIshaq5566/Sentiment-Analysis/blob/main/Sentiment_Analysis_(1).ipynb\" target=\"_parent\"><img src=\"https://colab.research.google.com/assets/colab-badge.svg\" alt=\"Open In Colab\"/></a>"
      ]
    },
    {
      "cell_type": "code",
      "source": [
        "!pip install transformers datasets"
      ],
      "metadata": {
        "id": "pSwhw_1asYlT"
      },
      "execution_count": null,
      "outputs": []
    },
    {
      "cell_type": "code",
      "source": [
        "!pip install transformers\n",
        "\n",
        "from transformers import AutoTokenizer, AutoModelForSequenceClassification\n",
        "from transformers import pipeline\n",
        "\n",
        "# Load the model and tokenizer\n",
        "tokenizer = AutoTokenizer.from_pretrained(\"cardiffnlp/twitter-roberta-base-sentiment\")\n",
        "model = AutoModelForSequenceClassification.from_pretrained(\"cardiffnlp/twitter-roberta-base-sentiment\")\n",
        "\n",
        "# Initialize the pipeline\n",
        "sentiment_analyzer = pipeline(\"sentiment-analysis\", model=model, tokenizer=tokenizer)\n",
        "\n",
        "# Define label mapping\n",
        "label_mapping = {\n",
        "    \"LABEL_0\": \"Negative\",\n",
        "    \"LABEL_1\": \"Neutral\",\n",
        "    \"LABEL_2\": \"Positive\"\n",
        "}\n",
        "\n",
        "# Test the model\n",
        "def sentiment_bot():\n",
        "    print(\"Sentiment Analysis Bot Initialized!\")\n",
        "    print(\"Type your text to analyze sentiment. Type 'exit' to quit.\")\n",
        "    while True:\n",
        "        user_input = input(\"Enter your text (type 'exit' to quit): \")\n",
        "        if user_input.lower() == \"exit\":\n",
        "            print(\"Goodbye!\")\n",
        "            break\n",
        "        # Analyze sentiment\n",
        "        result = sentiment_analyzer(user_input)\n",
        "        label = label_mapping[result[0]['label']]\n",
        "        confidence = result[0]['score']\n",
        "        # Print the result\n",
        "        print(f\"Text: {user_input}\")\n",
        "        print(f\"Sentiment: {label}, Confidence: {confidence:.2f}\")\n",
        "        print(\"-\" * 50)\n",
        "\n",
        "# Run the bot\n",
        "sentiment_bot()\n"
      ],
      "metadata": {
        "id": "gyRnvdVGsZXt"
      },
      "execution_count": null,
      "outputs": []
    }
  ]
}